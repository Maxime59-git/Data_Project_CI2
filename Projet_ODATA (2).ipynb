{
 "cells": [
  {
   "cell_type": "markdown",
   "metadata": {},
   "source": [
    "## **Projet ODATA**\n",
    "\n",
    "### *RECHERCHE DE RECETTES PAR SIMILARITÉ* \n",
    "\n",
    "Maxime DUBAR & Léo VUIDEL"
   ]
  },
  {
   "cell_type": "markdown",
   "metadata": {},
   "source": [
    "#### **Objectifs du projet :** \n",
    "\n",
    "Ce projet a pour but de développer un système de recherche de recettes par similarité en fonction des ingrédients et du titre, en exploitant les techniques de traitement de texte et de distances entre vecteurs. Les principaux objectifs sont :\n",
    "\n",
    "- Transformation textuelle et vectorisation : représenter chaque recette sous forme de vecteurs exploitables pour des comparaisons de similarité.\n",
    "\n",
    "- Optimisation de la recherche : expérimenter des méthodes de recherche efficaces, d'abord par une approche brute, puis par une méthode de recherche approximative avec la Locality-Sensitive Hashing (LSH), afin de garantir une recherche rapide et précise, même sur des données volumineuses.\n",
    "\n",
    "- Réduction de dimensions : appliquer des techniques de réduction de dimensions pour diminuer la taille des vecteurs tout en conservant l’essentiel de l'information, dans le but de maximiser la performance de la recherche et de minimiser les temps de calcul.\n"
   ]
  },
  {
   "cell_type": "markdown",
   "metadata": {},
   "source": [
    "#### **Description du Système Mis en Œuvre**\n",
    "\n",
    "Pour atteindre ces objectifs, le système développé effectue les étapes suivantes :\n",
    "\n",
    "* Préparation et transformation des données : les titres et ingrédients des recettes sont normalisés, convertis en listes de termes unifiés, puis transformés en vecteurs en appliquant la technique du sac de mots.\n",
    "\n",
    "* Construction de vecteurs : chaque recette est représentée par un vecteur dont chaque dimension correspond à un ingrédient ou terme unique du vocabulaire global. La présence d’un terme dans une recette est marquée par un \"1\" dans le vecteur.\n",
    "\n",
    "* Recherche par similarité : les vecteurs représentant les recettes permettent de mesurer la similarité avec une recette de référence, d'abord par la méthode exacte (force brute), puis par une méthode approximative (LSH) pour accélérer la recherche sur des données de grande taille. Le code utilise principalement les bibliothèques Python Pandas, Scikit-learn et Numpy pour la manipulation et la vectorisation des données."
   ]
  },
  {
   "cell_type": "markdown",
   "metadata": {},
   "source": [
    "##### **2. Récupération et analyse du jeu de données**"
   ]
  },
  {
   "cell_type": "markdown",
   "metadata": {},
   "source": [
    "Importation des 3 jeux de données utilisés à l'aide du module pandas. Dans un premier temps nous ne travaillerons que sur le premier jeu de donnée (small_recipe) pour limiter la durée de temps de calcul et réaliser les premiers tests."
   ]
  },
  {
   "cell_type": "code",
   "execution_count": null,
   "metadata": {},
   "outputs": [],
   "source": [
    "import numpy as np\n",
    "import pandas as pd\n",
    "import json\n",
    "import time\n",
    "\n",
    "\n",
    "small_recipe = pd.read_csv('small_recipe.csv',sep=',')\n",
    "large_recipe = pd.read_csv('large_recipe.csv',sep=',')\n",
    "#huge_recipe = pd.read_csv('huge_recipe.csv',sep=',')"
   ]
  },
  {
   "cell_type": "code",
   "execution_count": null,
   "metadata": {},
   "outputs": [],
   "source": [
    "print(\"Visualisation des premiers lignes :\",small_recipe.head())\n",
    "print(\"\\nTypes :\",small_recipe.dtypes)\n",
    "print(\"\\nDescription :\",small_recipe.describe())\n",
    "print(\"\\nColonnes :\",small_recipe.columns)\n",
    "print(\"\\nDimension de small recipe :\",small_recipe.shape)\n"
   ]
  },
  {
   "cell_type": "code",
   "execution_count": null,
   "metadata": {},
   "outputs": [],
   "source": [
    "# visualiser et stocker les titres et ingredients \n",
    "\n",
    "titles = small_recipe.iloc[:,0]\n",
    "print(titles)\n",
    "\n",
    "ingredients = small_recipe.iloc[:,5]\n",
    "print(ingredients)"
   ]
  },
  {
   "cell_type": "markdown",
   "metadata": {},
   "source": [
    "##### **3. Préparation et transformation des données**\n",
    "\n"
   ]
  },
  {
   "cell_type": "code",
   "execution_count": null,
   "metadata": {},
   "outputs": [],
   "source": [
    "recipe = small_recipe.iloc[0] # contient la premiere ligne (qui correspond aux éléments de la première recette)\n",
    "print(recipe)\n",
    "ingredients = json.loads(recipe[\"ingredients\"]) # contient les ingrédients de la premiere recette \n",
    "print(ingredients)"
   ]
  },
  {
   "cell_type": "markdown",
   "metadata": {},
   "source": [
    "On réalise quelques tests avec la première recette :"
   ]
  },
  {
   "cell_type": "code",
   "execution_count": null,
   "metadata": {},
   "outputs": [],
   "source": [
    "recipesmall = small_recipe.iloc[0] # contient la premiere ligne (qui correspond aux éléments de la première recette)\n",
    "# print(recipebis)\n",
    "\n",
    "titlebis = recipesmall[\"title\"]\n",
    "print(titlebis)\n",
    "titlebis = [word + '*' for word in titlebis.lower().split() if not word.isdigit() ] \n",
    "print(titlebis)\n",
    "\n",
    "ingredientsbis = json.loads(recipesmall[\"ingredients\"]) # contient les ingrédients de la premiere recette \n",
    "print(ingredientsbis)\n",
    "ingredientsbis = [ing.replace(\" \",\"_\") for ing in ingredientsbis]\n",
    "print(ingredientsbis)\n",
    "\n",
    "recipe_transform = ingredientsbis + titlebis\n",
    "print(recipe_transform)\n",
    "\n",
    "recipe_transform = \" \".join(recipe_transform)\n",
    "print(recipe_transform)\n",
    "\n"
   ]
  },
  {
   "cell_type": "markdown",
   "metadata": {},
   "source": [
    "On réalise 3 fonctions qui correspondent aux 3 étapes de transformations des recettes en une unique liste de termes. Après visualisation des différents titres, nous avons modifié certains caractères spéciaux des titres afin d'avoir des mots comparables. Puis les mots provenant des titres sont suffixés par une * afin de les différencier des autres mots provenant des ingrédients."
   ]
  },
  {
   "cell_type": "code",
   "execution_count": null,
   "metadata": {},
   "outputs": [],
   "source": [
    "def mod_title(title):\n",
    "    # mise en minuscule et supp des termes non alphabétiques \n",
    "    title = title.replace('\"', ' ')\n",
    "    title = title.replace('(', ' ')\n",
    "    title = title.replace(')', ' ')\n",
    "    title = title.replace('#', ' ')\n",
    "    title = title.replace('&', ' ')\n",
    "    title = title.replace(\"'\", \"_\")\n",
    "    modified_title = [word + \"*\" for word in title.lower().split() if not any(s.isdigit() for s in word)]\n",
    "    return modified_title\n",
    "\n",
    "def mod_ingredients(ingredients):\n",
    "    # remplace les \" \" par \"_\"\n",
    "    #ingredients = [ingredient.replace(\"'\",\"_\") for ingredient in ingredients]\n",
    "    modified_ingredients = [ingredient.replace(\" \",\"_\") and ingredient.replace(\"'\",\"_\") for ingredient in ingredients]\n",
    "    return modified_ingredients\n",
    "\n",
    "def mod_recipe(modified_title,modified_ingredients):\n",
    "    # fusion des listes et transformation en chaine de caractère \n",
    "    modified_recipe = modified_ingredients + modified_title\n",
    "    final_recipe = \" \".join(modified_recipe)\n",
    "    return final_recipe"
   ]
  },
  {
   "cell_type": "markdown",
   "metadata": {},
   "source": [
    "Test des fonctions :"
   ]
  },
  {
   "cell_type": "code",
   "execution_count": null,
   "metadata": {},
   "outputs": [],
   "source": [
    "recipe_test_small = small_recipe.iloc[90]\n",
    "print(recipe_test_small)\n",
    "\n",
    "title = recipe_test_small[\"title\"]\n",
    "ingredients = json.loads(recipe_test_small[\"ingredients\"])\n",
    "title=mod_title(title)\n",
    "ingredients=mod_ingredients(ingredients)\n",
    "recipe_test_small=mod_recipe(title,ingredients)\n",
    "print(recipe_test_small)  "
   ]
  },
  {
   "cell_type": "markdown",
   "metadata": {},
   "source": [
    "Création de la liste des recettes modifiées au format (ingrédients + titre). Finalement on obtient une matrice colonne de 19 999 chaînes de caractères (ingrédient + titres concaténés) qui caractérisent les 19 999 recettes sur lesquelles nous allons travailler. Cette liste de chaînes de caractères est \"ds_recipe\", qu'on a aussi enregistré au format text, afin de visualiser des anomalies."
   ]
  },
  {
   "cell_type": "code",
   "execution_count": null,
   "metadata": {},
   "outputs": [],
   "source": [
    "dataset_small_recipe=[]\n",
    "for i in range(len(small_recipe)) :\n",
    "    recipe=small_recipe.iloc[i]\n",
    "    title = recipe[\"title\"]\n",
    "    ingredients = json.loads(recipe[\"ingredients\"])\n",
    "    title=mod_title(title)\n",
    "    ingredients=mod_ingredients(ingredients)\n",
    "    recipe=mod_recipe(title,ingredients)\n",
    "    dataset_small_recipe.append(recipe)\n",
    "\n",
    "ds_small_recipe = np.array(dataset_small_recipe)\n",
    "\n",
    "print(ds_small_recipe)\n",
    "print(ds_small_recipe.shape)\n",
    "np.savetxt('ds_small_recipe.txt', ds_small_recipe, fmt='%s')"
   ]
  },
  {
   "cell_type": "markdown",
   "metadata": {},
   "source": [
    "#### **4. Construction des vecteurs correspondant aux recettes**"
   ]
  },
  {
   "cell_type": "markdown",
   "metadata": {},
   "source": [
    "Création de dataset_words à partir des mots des titres et ingrédients des recettes. \"dataset_words\" est donc une liste contenant tous les mots différents provenant des titres et des ingrédients des recettes. De la même manière, on enregistre la liste de mots au format text : \"ds_words.txt\" pour les visualiser facilement."
   ]
  },
  {
   "cell_type": "code",
   "execution_count": null,
   "metadata": {},
   "outputs": [],
   "source": [
    "dataset_small_words = []  \n",
    "\n",
    "for chain in ds_small_recipe:\n",
    "    for word in chain.split() : # pour avoir les mots de la chaine de caractère\n",
    "        if word not in dataset_small_words: # regarde si le mot est deja dans la liste de vocabulaire\n",
    "            dataset_small_words.append(word)\n",
    "\n",
    "dataset_small_words.sort()\n",
    "ds_small_words = np.array(dataset_small_words)\n",
    "print(dataset_small_words)\n",
    "print(ds_small_words)\n",
    "print(len(dataset_small_words),ds_small_words.shape)\n",
    "np.savetxt('ds_words.txt', ds_small_words, fmt='%s')"
   ]
  },
  {
   "cell_type": "markdown",
   "metadata": {},
   "source": [
    "Ainsi, le nombre de mots différents nous donne la dimension de notre matrice de recettes vectorisées : (19 999 x 7275), pour le small recipe. "
   ]
  },
  {
   "cell_type": "code",
   "execution_count": null,
   "metadata": {},
   "outputs": [],
   "source": [
    "print(ds_small_words.shape) #7275 mots différents, les mots provenant des titres sont repérés avec un *"
   ]
  },
  {
   "cell_type": "markdown",
   "metadata": {},
   "source": [
    "Vectorisation du dataset_recipe"
   ]
  },
  {
   "cell_type": "markdown",
   "metadata": {},
   "source": [
    "Utilisation de la méthode CountVectorizer : Nous avons tout d'abord utilisé le vectorizer sans préciser la liste de notre vocabulaire, c'est à dire avec comme input uniquement notre dataset_recipe. Cependant, le vocabulaire qu'il créait avec \"get_features_names_out\" ne considérait pas les titres et ne créait donc pas d'emplacements pour les mots du titre. Puis nous avons essayé le vectorizer en précisant le vocabulary qu'il devait prendre en compte pour vectoriser. Ainsi, en précisant le vocabuaire, on a \"vect_words\" = \"dataset_words\". Cette fois-ci, le vectorizer créait bien un emplacement pour les mots du titre mais il n'était jamais rempli car il ne considérait pas l'* dans la vectorisation. Par exemple, pour un titre \"Chicken funny\", il comptait 2 fois le mots chicken dans les ingrédients et 0 dans le titre. "
   ]
  },
  {
   "cell_type": "code",
   "execution_count": null,
   "metadata": {},
   "outputs": [],
   "source": [
    "from sklearn.feature_extraction.text import CountVectorizer\n",
    "\n",
    "vectorizer = CountVectorizer(vocabulary=dataset_small_words)\n",
    "\n",
    "X = vectorizer.fit_transform(dataset_small_recipe)\n",
    "vect_words = vectorizer.get_feature_names_out()\n",
    "vect_recipe=X.toarray()\n",
    "\n",
    "print(\"data :\", dataset_small_words)\n",
    "print(\"count vect :\", vect_words)\n",
    "print(vect_recipe)\n",
    "print(len(dataset_small_words),len(vect_words))\n",
    "print(len(vect_recipe[0]))"
   ]
  },
  {
   "cell_type": "markdown",
   "metadata": {},
   "source": [
    "Nous avons donc décidé d'utiliser une méthode manuelle pour la création de nos vecteurs à partir de notre vocabulaire dataset_words. Nous avons fait le choix de ne pas utiliser la classe \"TfidfVectorizer\" (avec pondération) ni d'utiliser une pondération sur les mots provenant du titre car nous sommes partis du principe que l'ingrédient le plus important de la recette se retrouve aussi dans la liste d'ingrédients, c'est à dire qu'une pondération sur le titre serait utile si un ingrédient est dans le titre mais pas dans la liste d'ingrédients afin de repérer les recette similaires. Puis, certains mots du titre n'ont pas de réelles significations si on les prend séparément. "
   ]
  },
  {
   "cell_type": "markdown",
   "metadata": {},
   "source": [
    "Vectorisation à la main des recettes stockées dans la matrice de taille (19999,7275) recipe_vect."
   ]
  },
  {
   "cell_type": "code",
   "execution_count": null,
   "metadata": {},
   "outputs": [],
   "source": [
    "small_recipe_vect = [] # matrice qui contiendra toutes les recettes vectorisées \n",
    "\n",
    "for chain in dataset_small_recipe :\n",
    "    vect = [] # liste de chaque recette vectorisée \n",
    "    for element in dataset_small_words :\n",
    "        if element in chain :\n",
    "            vect.append(1)\n",
    "        else :\n",
    "            vect.append(0)\n",
    "    small_recipe_vect.append(vect)\n",
    "\n",
    "small_recipe_vect=np.array(small_recipe_vect)\n",
    "print(small_recipe_vect)\n",
    "        "
   ]
  },
  {
   "cell_type": "code",
   "execution_count": null,
   "metadata": {},
   "outputs": [],
   "source": [
    "# Sauvegarde de la matrice dans un fichier avec Numpy \n",
    "np.save('small_recipe_vect.npy', small_recipe_vect)"
   ]
  },
  {
   "cell_type": "code",
   "execution_count": null,
   "metadata": {},
   "outputs": [],
   "source": [
    "datavect_small_recipe = np.load('small_recipe_vect.npy')\n",
    "\n",
    "print(datavect_small_recipe)"
   ]
  },
  {
   "cell_type": "markdown",
   "metadata": {},
   "source": [
    "***5. Recherche par Similarité***"
   ]
  },
  {
   "cell_type": "markdown",
   "metadata": {},
   "source": [
    "On utilisera uniquement la distance euclidienne pour les différents calculs de distance."
   ]
  },
  {
   "cell_type": "markdown",
   "metadata": {},
   "source": [
    "Récap des diférentes données utilisées :\n",
    "\n",
    "dataset_recipe = Liste qui contient les chaines de caractère des recettes (ingrédients + titre)\n",
    "\n",
    "dataset_words = Liste contenant tous les mots uniques provenant des ingrédients et des titres (avec un * pour les titres)\n",
    "\n",
    "datavect_recipe = Matrice des recettes vectorisées chaque ligne correspond au vecteur (taille 7275) de la recette"
   ]
  },
  {
   "cell_type": "markdown",
   "metadata": {},
   "source": [
    "**5.1 Méthode exacte (force brute)**"
   ]
  },
  {
   "cell_type": "code",
   "execution_count": null,
   "metadata": {},
   "outputs": [],
   "source": [
    "from sklearn.neighbors import NearestNeighbors\n",
    "\n",
    "bf = NearestNeighbors(n_neighbors=5,algorithm='brute',metric='euclidean')     # brute force pour les 5 plus proches voisins"
   ]
  },
  {
   "cell_type": "code",
   "execution_count": null,
   "metadata": {},
   "outputs": [],
   "source": [
    "#ds_small_recipe = np.array(dataset_small_recipe[100:])\n",
    "ds_small_vect = datavect_small_recipe[100:]\n",
    "#query_small_recipe = np.array(dataset_small_recipe[:100])\n",
    "query_small_vect = datavect_small_recipe[:100]\n",
    "\n",
    "bf.fit(ds_small_vect) # force brute donc rien ne se passe mais dcp rapide \n",
    "\n",
    "print(len(ds_small_vect),len(ds_small_vect[0]),len(query_small_vect),len(query_small_vect[0]))"
   ]
  },
  {
   "cell_type": "markdown",
   "metadata": {},
   "source": [
    "Premier test pour une seule requete (un seul vecteur) : "
   ]
  },
  {
   "cell_type": "code",
   "execution_count": null,
   "metadata": {},
   "outputs": [],
   "source": [
    "query = query_small_vect[0] \n",
    "distances, indices = bf.kneighbors([query])\n",
    "\n",
    "print(\"les  5 recettes les plus proches de : \\\"\",small_recipe.iloc[0][\"title\"], \"\\\" sont :\\n\",small_recipe.iloc[100+indices[0]][\"title\"])"
   ]
  },
  {
   "cell_type": "code",
   "execution_count": null,
   "metadata": {},
   "outputs": [],
   "source": [
    "print(\"distances :\",distances)\n",
    "print(\"indices :\",indices)"
   ]
  },
  {
   "cell_type": "code",
   "execution_count": null,
   "metadata": {},
   "outputs": [],
   "source": [
    "query = query_small_vect[0] \n",
    "metrics = ['euclidean','manhattan','chebyshev']\n",
    "k_values=[1,3,5,10]\n",
    "for m in metrics :\n",
    "    for k in k_values :\n",
    "        bf = NearestNeighbors(n_neighbors=k,algorithm='brute',metric=m)\n",
    "        bf.fit(ds_small_vect)\n",
    "        dist,indices = bf.kneighbors([query])\n",
    "        print(f\"\\nPour la distance '{m}', les {k} plus proches voisins de '{small_recipe.iloc[0]['title']}' sont :\")\n",
    "        print(small_recipe.iloc[100+indices[0]][\"title\"],dist[0])\n"
   ]
  },
  {
   "cell_type": "markdown",
   "metadata": {},
   "source": [
    "Dans ce contexte, la distance de Chebyshev n'a aucun sens car notre matrice de recettes vectorisées n'est composée que de 0 ou de 1 (absence ou présence d'un mot) donc la distance est toujours égale à 1.\n",
    "\n",
    "Les distances euclidienne et manhattan sont quant à elles cohérentes.\n"
   ]
  },
  {
   "cell_type": "markdown",
   "metadata": {},
   "source": [
    "- ##### **5.2 Méthode approximative (LSH)**"
   ]
  },
  {
   "cell_type": "markdown",
   "metadata": {},
   "source": [
    "La méthode LSH (Locality Sensitive Hashing) est utilisée pour optimiser la recherche par similarité dans de grands ensembles de données, en approximant les 5 plus proches voisins (5-NN) d'une requête. \n",
    "\n",
    "Pour réaliser la recherche avec la méthode LSH nous avons repris les codes utilisés dans le TP3. \n",
    "Le jeu de données utilisé pour l'apprentissage est *ds_vect* ( datavect_recipe[100:]), et le jeu de requêtes pour tester la méthode est *query_vect* (datavect_recipe[:100]).\n",
    "\n",
    "Pour chaque requête dans *query_vect*, LSH est utilisé pour trouver les 5 plus proches voisins, en générant d’abord une signature de hachage pour la requête et en récupérant les vecteurs ayant des signatures similaires dans les tables de hachage. Une fois les candidats identifiés, une recherche brute-force est appliquée sur cet ensemble réduit pour obtenir les 5 plus proches voisins de la requête.\n",
    "\n",
    "Pour évaluer la performance des résultats de cette méthode ,nous avons considéré 2 critères : **La précison** et **le temps de recherche** par rapport à la methode brute-force\n",
    "\n",
    "Voici une description du protocole expérimental mis en place pour évaluer l'efficacité de LSH par rapport à une recherche brute-force : \n",
    "\n",
    "1. Premier test de vérification : \n",
    "Nous avons dans un premier temps réalisé une premiere recherche sur une seule requete avec les paramètres suivants (w=1, nb_projections =20, nb_tables=2). \n",
    "On calcule les 5 plus proches voisins avec LSH et avec la force brute. On calcule la précision. On a ensuite testé sur l'ensemble des 100 requetes en gardant les paramètres initiaux. \n",
    "\n",
    "2. Calcul de la Vérité Terrain par Force Brute :\n",
    "Pour obtenir la vérité terrain, nous utilisons une recherche brute-force sur l'ensemble des données *ds_vect*. Cela consiste à calculer la distance euclidienne entre chaque vecteur de requête (*query_vect*) et tous les vecteurs du *ds_vect*, en sélectionnant les 5 plus proches voisins pour chaque requête. Les indices et les distances de ces voisins sont stockés pour une comparaison ultérieure avec les résultats de LSH.\n",
    "\n",
    "3. Rechercher des paramètres optimaux : \n",
    "On réalise plusieurs recherches en faisant varier les 3 paramètres de la méthode LSH :\n",
    "nb_projections (variable L) : le nombre de projections aléatoires pour chaque table de hachage. \n",
    "nb_tables (variable k) : le nombre de tables de hachage utilisées pour augmenter la probabilité de collisions entre vecteurs similaires.\n",
    "w : la taille de la fenêtre de quantification pour les fonctions de hachage, influençant la granularité des signatures.\n",
    "A chaque recherche on regarde la precision moyenne, le temps de création de la table, le temps de recherche, la taille moyenne de la short list que l'on stocke dans un fichier csv. \n",
    "\n",
    "4. Évaluation des Résultats & Optimisation des Paramètres :\n",
    "Pour évaluer les résultats et déterminer les paramètres optimaux, on trace la précision en fonction de W et le temps de recherche en fonction de W.\n",
    "Pour trouver une configuration qui maximise la précision tout en réduisant le temps de calcul par rapport à la recherche brute-force."
   ]
  },
  {
   "cell_type": "markdown",
   "metadata": {},
   "source": [
    "Reprise du code du TP3 pour l'algorithme de force brut knn_search"
   ]
  },
  {
   "cell_type": "code",
   "execution_count": null,
   "metadata": {},
   "outputs": [],
   "source": [
    "## Brute force \n",
    "  \n",
    "def compute_distances(data, query, dist=\"L2\"):\n",
    "    \"\"\" Compute distances.\n",
    "    Computes the distances between the vectors (rows) of a dataset and a\n",
    "    single queries). Three distances are supported:\n",
    "    * Manhattan distance (\"L1\");\n",
    "    * squared Euclidean distance (\"L2\");\n",
    "    * Chebyshev distance (\"inf\").\n",
    "    \"\"\"\n",
    "    distances = np.zeros((len(data),), dtype=np.float32)\n",
    "    if dist == \"L1\":\n",
    "        distances = np.sum(np.abs(data - query), axis=1)\n",
    "    elif dist == \"L2\":\n",
    "        distances = np.sqrt(np.sum((data - query)**2, axis=1))\n",
    "    elif dist == \"inf\":\n",
    "        distances = np.max(np.abs(data - query), axis=1)\n",
    "    return distances\n",
    "\n",
    "def knn_search(data, query, k=5, dist='L2'):\n",
    "    \"\"\"Brute force version of knn\"\"\"\n",
    "    distances = compute_distances(data, query, dist)\n",
    "    if k == 1:\n",
    "        min_idx = np.argmin(distances)\n",
    "        return [min_idx], [distances[min_idx]]\n",
    "    else:\n",
    "        min_idx = np.argpartition(distances, k)[:k]\n",
    "        return [min_idx], distances[min_idx]"
   ]
  },
  {
   "cell_type": "markdown",
   "metadata": {},
   "source": [
    "Réutilisation du code fourni pour le TP3 pour l'algorithme LSH : "
   ]
  },
  {
   "cell_type": "code",
   "execution_count": null,
   "metadata": {},
   "outputs": [],
   "source": [
    "import heapq as hq\n",
    "import time as tm\n",
    "\n",
    "\n",
    "class _LSHEntry:\n",
    "\n",
    "\tdef __init__(self, data_id, signature):\n",
    "\t\tself._data_id = data_id\n",
    "\t\tself._signature = signature\n",
    "\n",
    "\tdef __eq__(self, other):\n",
    "\t\treturn self._signature == other._signature\n",
    "\n",
    "class LSH:\n",
    "\t\"\"\"LSH index with regular search and multi-probe search.\n",
    "\n",
    "\tImplementation of E2LSH (LSH for Euclidean-norm). The index contains\n",
    "\tnb_tables hash tables, each using a hash function based on\n",
    "\tnb_projections random projections and a quantization step W.\n",
    "\n",
    "\t:param nb_projections: Number of projections in the hash function of\n",
    "\t\t each table.\n",
    "\t:param nb_tables: Number of hash tables.\n",
    "\t:param w: Quantization step of the hash functions.\n",
    "\t:param seed: Seed of the random generator for reproducible experiments.\n",
    "\t:type nb_projections: int\n",
    "\t:type nb_tables: int\n",
    "\t:type w: int\n",
    "\t:type seed: int\n",
    "\t\"\"\"\n",
    "\n",
    "\tdef __init__(self, nb_projections, nb_tables, w, seed=0):\n",
    "\t\tself._nb_projections = nb_projections\n",
    "\t\tself._nb_tables = nb_tables\n",
    "\t\tself._w = w\n",
    "\t\t# magic prime for effective hashing\n",
    "\t\t# (cf. Andoni/Indyk's implementation)\n",
    "\t\tself._HASH_PRIME = (2 << 31) - 5\n",
    "\t\tself._TABLE_LENGTH = 2 << 16\n",
    "\t\tnp.random.seed(seed)\n",
    "\n",
    "\tdef _generate_vector_projections(self, dimension):\n",
    "\t\tself._vector_projections = np.random.normal(0, 1, (self._nb_tables, self._nb_projections, dimension))\n",
    "\t\tself._vector_projections = (self._vector_projections.T / np.linalg.norm(self._vector_projections, axis = 2).T).T\n",
    "\t\tself._bias = np.random.uniform(0, self._w, (self._nb_tables, self._nb_projections))\n",
    "\n",
    "\tdef _generate_signature_projections(self):\n",
    "\t\tself._signature_projections = np.random.uniform(0, np.random.uniform(0, 2 << 32), (self._nb_projections,)).astype(np.int32)\n",
    "\n",
    "\tdef _hash_vector(self, x):\n",
    "\t\treturn ((np.dot(self._vector_projections, x) + self._bias) / self._w).astype(np.int32)\n",
    "\n",
    "\tdef _hash_vector_signatures(self, q):\n",
    "\t\treturn np.abs((np.dot(q, self._signature_projections).astype(np.int64)%self._HASH_PRIME)%self._TABLE_LENGTH)\n",
    "\n",
    "\tdef _build_tables(self):\n",
    "\t\tself._tables = np.empty((self._nb_tables, self._TABLE_LENGTH), dtype=np.dtype(object))\n",
    "\t\tfor i in range(self._nb_tables):\n",
    "\t\t\tfor j in range(self._TABLE_LENGTH):\n",
    "\t\t\t\tself._tables[i,j] = []\n",
    "\n",
    "\tdef fit(self, data):\n",
    "\t\t\"\"\"Builds the LSH index from the data\n",
    "\n",
    "\t\t:param data: The data as a (n,d)-shaped Numpy array (n =\n",
    "\t\t\tdataset size, d = data dimension).\n",
    "\t\t:type data: (n,d)-shaped Numpy array.\n",
    "\t\t\"\"\"\n",
    "\t\tself._data = data\n",
    "\t\tn, d = data.shape\n",
    "\n",
    "\t\t# generate random stuff and build tables\n",
    "\t\tself._generate_vector_projections(d)\n",
    "\t\tself._generate_signature_projections()\n",
    "\t\tself._build_tables()\n",
    "\n",
    "\t\t# populate hash tables with data\n",
    "\t\tfor i, d in enumerate(data):\n",
    "\t\t\tsignatures = self._hash_vector(d)\n",
    "\t\t\thashs = self._hash_vector_signatures(signatures)\n",
    "\t\t\tfor t, bucket in enumerate(self._tables[np.arange(len(self._tables)), hashs]):\n",
    "\t\t\t\tbucket.append((i, signatures[t]))\n",
    "\n",
    "\tdef kneighbors(self, query, k):\n",
    "\t\t\"\"\" Search for the k-NN of queries q in the index.\n",
    "\n",
    "\t\t:param query: the queries (or probe) to search.\n",
    "\t\t:param k: the number of nearest neighbors to return\n",
    "\t\t:type query: (d,)-shaped Numpy array\n",
    "\t\t:type k: int\n",
    "\n",
    "\t\t:return: (matches, distances, nb_matches) with nb_matches the\n",
    "\t\t\tsize of the short-list on which brute-force search is\n",
    "\t\t\tperformed, matches the indices of the k-NN in the\n",
    "\t\t\tdata matrix, and distances the values of the distances\n",
    "\t\t\tof the matches to the queries.\n",
    "\t\t:rtype: (int list, float list, int)\n",
    "\t\t\"\"\"\n",
    "\t\tt1 = tm.time()\n",
    "\t\tsignatures = self._hash_vector(query)\n",
    "\t\thashs = self._hash_vector_signatures(signatures)\n",
    "\n",
    "\t\t# Get matches from buckets\n",
    "\t\tmatches = set()\n",
    "\t\tt1 = tm.time()\n",
    "\t\tfor signature, bucket in zip(signatures, self._tables[np.arange(len(self._tables)), hashs]):\n",
    "\t\t\tfor e in bucket:\n",
    "\t\t\t\tif (e[1] == signature).all():\n",
    "\t\t\t\t\tmatches.add(e[0])\n",
    "\n",
    "\t\t# brute-force search over matches\n",
    "\t\tmatches = np.array(list(matches))\n",
    "\t\tif len(matches) > 0:\n",
    "\t\t\tt1 = tm.time()\n",
    "\t\t\tm, distances = knn_search(self._data[matches], query, k=k, dist=\"L2\")\n",
    "\t\telse:\n",
    "\t\t\tm = []\n",
    "\t\t\tdistances = []\n",
    "\t\treturn distances, matches[m], len(matches)"
   ]
  },
  {
   "cell_type": "markdown",
   "metadata": {},
   "source": [
    "Réalisation d'un premier test pour vérifier le fonctionnement de LSH : pour cela nous avons utilisé les paramètres suivants ( w=1, nb_projections = 10, nb_tables = 2)."
   ]
  },
  {
   "cell_type": "code",
   "execution_count": null,
   "metadata": {},
   "outputs": [],
   "source": [
    "# création des tables de hachages \n",
    "\n",
    "W_value = 1\n",
    "nb_projections = 10\n",
    "nb_tables = 2\n",
    "\n",
    "lsh = LSH(nb_projections=nb_projections, nb_tables=nb_tables, w=W_value)\n",
    "lsh.fit(ds_small_vect)"
   ]
  },
  {
   "cell_type": "markdown",
   "metadata": {},
   "source": [
    "Test sur une requete pour vérifier le bon fonctionnement de la méthode LSH :"
   ]
  },
  {
   "cell_type": "code",
   "execution_count": null,
   "metadata": {},
   "outputs": [],
   "source": [
    "# une recette en requette \n",
    "\n",
    "query = query_small_vect[0]\n",
    "\n",
    "# calcul des 5 plus proches voisin avec LSH\n",
    "\n",
    "distances, matches, nb_matches = lsh.kneighbors(query, k=5)"
   ]
  },
  {
   "cell_type": "code",
   "execution_count": null,
   "metadata": {},
   "outputs": [],
   "source": [
    "print(distances,matches,nb_matches)"
   ]
  },
  {
   "cell_type": "markdown",
   "metadata": {},
   "source": [
    "On calcule les 5 plus proches voisins de la première requête avec l'algorithme de force brute pour comparer les résultats obtenue avec la méthode LSH."
   ]
  },
  {
   "cell_type": "code",
   "execution_count": null,
   "metadata": {},
   "outputs": [],
   "source": [
    "# calcul des 5 plus proches voisin avec la force brute (vérité terrain)\n",
    "\n",
    "indices_force_brute, distance_force_brute = knn_search(ds_small_vect,query,k=5)"
   ]
  },
  {
   "cell_type": "code",
   "execution_count": null,
   "metadata": {},
   "outputs": [],
   "source": [
    "#print(indices_force_brute,len(indices_force_brute))\n",
    "\n",
    "titre_requete = small_recipe.iloc[0]['title']\n",
    "\n",
    "# affichage des voisins avec force brute pour une comparaison visuelle\n",
    "\n",
    "print(f\"5 plus proche voisin de {titre_requete} avec méthode force brute sont :\")\n",
    "for voisin in indices_force_brute :\n",
    "    for ele in voisin :\n",
    "        print(small_recipe.iloc[ele][\"title\"])\n",
    "# affichage des voisins avec LSH\n",
    "\n",
    "print(f\"5 plus proche voisin de {titre_requete} avec méthode LSH sont :\")\n",
    "for voisin in matches :\n",
    "    for ele in voisin :\n",
    "        print(small_recipe.iloc[ele][\"title\"])\n",
    "\n",
    "# Calcul de la precision \n",
    "\n",
    "correct_matches = 0\n",
    "for voisin in indices_force_brute : \n",
    "    for idx in voisin :\n",
    "        if idx in matches[0] :\n",
    "            correct_matches +=1 \n",
    "\n",
    "#print(correct_matches)\n",
    "\n",
    "precision = correct_matches / len(matches[0])\n",
    "print(f\"\\n Precision de la methode LSH : {precision*100}%\")"
   ]
  },
  {
   "cell_type": "markdown",
   "metadata": {},
   "source": [
    "Cette exemple a permis de vérifier le bon fonctionnement de notre code pour la methode LSH sur une seule recette. \n",
    "\n",
    "Cependant on remarque dès à présent que les paramètres choisis pour ce premier test ne sont pas idéaux, en effet le resultat nb_matches qui correspond à la taille de la short list sur laquelle est appliquée la recherche par force brute dans la méthode LSH est proche du nombre total de vecteurs."
   ]
  },
  {
   "cell_type": "markdown",
   "metadata": {},
   "source": [
    "Nous allons maintenant tester la méthode LSH sur l'ensemble des 100 requêtes. "
   ]
  },
  {
   "cell_type": "code",
   "execution_count": null,
   "metadata": {},
   "outputs": [],
   "source": [
    "queries = query_small_vect #  correspond à ds_vect[:100]\n",
    "#print(\"queries:\", queries)"
   ]
  },
  {
   "cell_type": "markdown",
   "metadata": {},
   "source": [
    "On commence par calculer la vérité terrain avec l'algorithme de force brute pour les 100 requêtes, les 5 plus proches voisins des 100 requetes sont stockés dans la liste *exact_neighbors*.\n",
    "On calcule également le temps de recherche de l'algo force brute pour pouvoir le comparer a ceux de la méthode LSH. "
   ]
  },
  {
   "cell_type": "code",
   "execution_count": null,
   "metadata": {},
   "outputs": [],
   "source": [
    "exact_neighbors = []\n",
    "\n",
    "start_time = time.time()\n",
    "\n",
    "for query in queries :\n",
    "    voisins_exact,distance_exact = knn_search(ds_small_vect,query,k=5)\n",
    "    #print(voisins_exact,voisins_exact[0])\n",
    "    exact_neighbors.append(voisins_exact[0])\n",
    "\n",
    "end_time = time.time()\n",
    "temps_de_recherche_force_brute = end_time - start_time\n",
    "print(temps_de_recherche_force_brute)"
   ]
  },
  {
   "cell_type": "code",
   "execution_count": null,
   "metadata": {},
   "outputs": [],
   "source": [
    "print(exact_neighbors)"
   ]
  },
  {
   "cell_type": "markdown",
   "metadata": {},
   "source": [
    "Bien que nos paramètres ne soient pas optimaux pour le moment on teste la recherche avec la méthode LSH sur nos 100 requetes pour verifier le bon fonctionnement du code avant de faire varier les paramètres.\n",
    "\n",
    "lsh_neighbors contient les 5 plus proches voisins pour les 100 requetes avec la methode LSH"
   ]
  },
  {
   "cell_type": "code",
   "execution_count": null,
   "metadata": {},
   "outputs": [],
   "source": [
    "lsh_neighbors = []\n",
    "short_list = []\n",
    "\n",
    "for query in queries :\n",
    "    distances,matches,nb_matches=lsh.kneighbors(query, k=5)\n",
    "    lsh_neighbors.append(matches[0])\n",
    "    short_list.append(nb_matches)\n"
   ]
  },
  {
   "cell_type": "code",
   "execution_count": null,
   "metadata": {},
   "outputs": [],
   "source": [
    "print(short_list)\n",
    "print(lsh_neighbors)\n",
    "print(len(lsh_neighbors),len(lsh_neighbors[0]))\n",
    "print(np.mean(short_list))"
   ]
  },
  {
   "cell_type": "markdown",
   "metadata": {},
   "source": [
    "On remarque comme précédemment que les tailles des shorts-list sont bien trop élevées pour que la méthode LSH soit efficace, cela explique aussi qu'avec ces paramètres, la durée de recherche de la méthode LSH soit suppérieure à celle de la méthode force brute.\n",
    "\n",
    "On réalise le calcul de precision sur nos résultats. "
   ]
  },
  {
   "cell_type": "code",
   "execution_count": null,
   "metadata": {},
   "outputs": [],
   "source": [
    "precisions = []\n",
    "\n",
    "for i,neighbors in enumerate(exact_neighbors):\n",
    "    correct_matches = 0\n",
    "    #print(i,neighbors)\n",
    "    for idx in neighbors :\n",
    "        if idx in lsh_neighbors[i]:\n",
    "            correct_matches+=1\n",
    "    precision = correct_matches/len(lsh_neighbors[0])\n",
    "    #print(precision)\n",
    "    precisions.append(precision)\n",
    "\n",
    "print(f\"la précision de la méthode LSH sur le jeu de requetes est de {np.mean(precisions)*100}%\")\n"
   ]
  },
  {
   "cell_type": "markdown",
   "metadata": {},
   "source": [
    "Maintenant que nous avons vérifié le bon fonctionnement du code et compris le protocole nous allons pouvoir réaliser plusieurs tests en faisant varier nos différents paramètres afin d'optimiser la recherche. \n",
    "\n",
    "Nous avons décidé après quelques tests rapides de tester les valeurs suivantes : \n",
    "\n",
    "nombre de projections : 30 et 40 \n",
    "nombre de table : 5 \n",
    "valeurs de w : 0.25, 0.5, 0.75, 1.0, 2.0, 3.0, 5.0 \n",
    "\n",
    "Puis avec les paramètres :\n",
    "\n",
    "nombre de projections : 30 et 40 \n",
    "nombre de table : 8 \n",
    "valeurs de w : 0.2 0.3 0.5 0.75 1\n",
    "\n",
    "\n",
    "on réalise la recherche des 5 plus proches voisins sur les 100 requetes pour chaque configuration LSH."
   ]
  },
  {
   "cell_type": "code",
   "execution_count": null,
   "metadata": {},
   "outputs": [],
   "source": [
    "queries = query_small_vect\n",
    "\n",
    "# Paramètres de LSH à tester\n",
    "L_values = [30, 40] #[30, 40]\n",
    "k_values = [5] #[8] \n",
    "W_values = [0.25, 0.5, 0.75,1,2,3,5]   #[0.2,0.3,0.5,0.75,1] \n",
    "\n",
    "# Résultats pour chaque configuration\n",
    "results = []\n",
    "\n",
    "# print(\"la durée de création des index LSH des données selon les paramètres :\")\n",
    "\n",
    "# Boucle de test pour chaque combinaison de paramètres\n",
    "for L in L_values:\n",
    "    for k in k_values:\n",
    "        for W in W_values:\n",
    "            # Initialiser l'index LSH avec les paramètres actuels\n",
    "            start_time = time.time()\n",
    "            lsh = LSH(nb_projections=L, nb_tables=k, w=W)\n",
    "            lsh.fit(ds_small_vect)\n",
    "            end_time = time.time()\n",
    "\n",
    "            temps_de_cration = end_time - start_time\n",
    "\n",
    "            print(f\" paramètres utilisés : w={W}, nombre de tables {k} et nombre de projection : {L} => {temps_de_cration} secondes\")\n",
    "\n",
    "            lsh_neighbors = []\n",
    "            short_list = []\n",
    "\n",
    "            start_time = time.time()\n",
    "\n",
    "            for query in queries :\n",
    "                distances,matches,nb_matches=lsh.kneighbors(query, k=5)\n",
    "                lsh_neighbors.append(matches[0])\n",
    "                short_list.append(nb_matches)\n",
    "\n",
    "            end_time= time.time()\n",
    "            temps_de_recherche = end_time - start_time\n",
    "            print(f\"le temps de recherche des 5 plus proches voisins par la méthode LSH est de {temps_de_recherche} secondes\")\n",
    "            print(f\"la taille moyenne des short-list est de {np.mean(short_list)}\")\n",
    "\n",
    "            precisions = []\n",
    "\n",
    "            for i,neighbors in enumerate(exact_neighbors):\n",
    "                correct_matches = 0\n",
    "                #print(i,neighbors)\n",
    "                for idx in neighbors :\n",
    "                    if idx in lsh_neighbors[i]:\n",
    "                        correct_matches+=1\n",
    "                precision = correct_matches/len(lsh_neighbors[0])\n",
    "                #print(precision)\n",
    "                precisions.append(precision)\n",
    "\n",
    "            print(f\"la précision de la méthode LSH sur le jeu de requetes est de {np.mean(precisions)*100}%\")\n",
    "            \n",
    "            # Ajouter les résultats dans la liste\n",
    "            results.append({\n",
    "                'L': L,\n",
    "                'k': k,\n",
    "                'W': W,\n",
    "                'Creation LSH Time (s)': temps_de_cration,\n",
    "                'Search Time (s)': temps_de_recherche,\n",
    "                'Precision': np.mean(precisions)*100,\n",
    "                'taille moyenne de la short-list': np.mean(short_list)\n",
    "            })\n",
    "\n",
    "# Convertir les résultats en DataFrame pour une analyse plus facile\n",
    "df_results = pd.DataFrame(results)\n",
    "        "
   ]
  },
  {
   "cell_type": "markdown",
   "metadata": {},
   "source": [
    "Nous avons stocké les resultats dans un fichier csv"
   ]
  },
  {
   "cell_type": "code",
   "execution_count": null,
   "metadata": {},
   "outputs": [],
   "source": [
    "print(df_results)\n",
    "# Enregistrer les résultats dans un fichier CSV\n",
    "df_results.to_csv(\"resultats_LSH_test.csv\", index=False)\n"
   ]
  },
  {
   "cell_type": "markdown",
   "metadata": {},
   "source": [
    "Analyse des résultats "
   ]
  },
  {
   "cell_type": "code",
   "execution_count": null,
   "metadata": {},
   "outputs": [],
   "source": [
    "lsh_result = pd.read_csv('resultats_LSH_test.csv')\n",
    "print(lsh_result.shape)\n",
    "print(lsh_result)"
   ]
  },
  {
   "cell_type": "code",
   "execution_count": null,
   "metadata": {},
   "outputs": [],
   "source": [
    "# Données sous forme de dictionnaire (même données que celle stockées dans le fichier csv)\n",
    "data = {\n",
    "    'L': [30, 30, 30, 30, 30, 30, 30, 40, 40, 40, 40, 40, 40, 40, 40, 40, 40, 30, 30, 30, 30, 30, 40, 40, 40, 40],\n",
    "    'k': [5, 5, 5, 5, 5, 5, 5, 5, 5, 5, 5, 5, 5, 5, 8, 8, 8, 8, 8, 8, 8, 8, 8, 8, 8, 8],\n",
    "    'W': [0.25, 0.5, 0.75, 1, 2, 3, 5, 0.25, 0.5, 0.75, 1, 2, 3, 5, 0.2, 0.3, 0.5, 0.75, 1.0, 0.3, 0.5, 0.75, 1.0],\n",
    "    'Creation LSH Time (s)': [\n",
    "        12.115, 11.723, 10.238, 12.421, 10.046, 70.536, 14.39, 15.02, 14.74, 15.618,\n",
    "        14.308, 17.81, 14.751, 14.21, 18.725, 19.759, 20.248, 19.538, 19.436, 30.057, 27.261, 28.087, 24.511\n",
    "    ],\n",
    "    'Search Time (s)': [\n",
    "        9.479, 81.893, 174.809, 235.743, 302.89, 336.405, 354.353, 10.567, 157.186, 223.526, 268.655, \n",
    "        336.045, 349.632, 348.437, 15.529, 71.076, 259.263, 344.276, 374.527, 51.384, 162.207, 259.188, 322.515\n",
    "    ],\n",
    "    'Precision': [\n",
    "        34.8, 67.4, 80.2, 84.2, 86.8, 89.2, 98.6, 34.4, 76.2, 84.2, 86.8, 90.8, 97.0, 100.0, 38.4, 68.4, \n",
    "        86.4, 90.6, 91.6, 61.2, 79.2, 89.4, 88.4\n",
    "    ],\n",
    "    'Avg Shortlist Size': [\n",
    "        805.45, 5963.29, 10928.49, 13644.54, 17776.97, 19898.71, 19628.09, 1014.79, 9683.22, \n",
    "        13436.63, 15560.89, 19608.25, 19898.3, 19899.0, 978.29, 5208.32, 14211.75, 18788.85, 19786.67, \n",
    "        3724.66, 9610.64, 14829.81, 18185.54\n",
    "    ]\n",
    "}\n",
    "\n",
    "\n",
    "# Conversion en DataFrame\n",
    "df = pd.DataFrame(data)"
   ]
  },
  {
   "cell_type": "code",
   "execution_count": null,
   "metadata": {},
   "outputs": [],
   "source": [
    "import matplotlib.pyplot as plt\n",
    "\n",
    "# Filtrer les données pour chaque configuration\n",
    "lsh_result_30_5 = lsh_result[(lsh_result['L'] == 30) & (lsh_result['k'] == 5)]\n",
    "lsh_result_40_5 = lsh_result[(lsh_result['L'] == 40) & (lsh_result['k'] == 5)]\n",
    "\n",
    "# Tracer la précision en fonction de W pour les configurations 30 projections / 5 tables et 40 projections / 5 tables\n",
    "plt.figure(figsize=(14, 6))\n",
    "\n",
    "# Précision pour L=30, k=5 et L=40, k=5\n",
    "plt.subplot(1, 3, 1)\n",
    "plt.plot(lsh_result_30_5['W'], lsh_result_30_5['Precision'], marker='o', label='L=30, k=5')\n",
    "plt.plot(lsh_result_40_5['W'], lsh_result_40_5['Precision'], marker='o', label='L=40, k=5')\n",
    "plt.xlabel('W')\n",
    "plt.ylabel('Précision (%)')\n",
    "plt.title('Précision en fonction de W')\n",
    "plt.legend()\n",
    "plt.grid(True)\n",
    "\n",
    "# Temps de recherche pour L=30, k=5 et L=40, k=5 \n",
    "plt.subplot(1, 3, 2)\n",
    "plt.plot(lsh_result_30_5['W'], lsh_result_30_5['Search Time (s)'], marker='o', label='L=30, k=5')\n",
    "plt.plot(lsh_result_40_5['W'], lsh_result_40_5['Search Time (s)'], marker='o', label='L=40, k=5')\n",
    "plt.axhline(y=temps_de_recherche_force_brute, color='red', linestyle='--', label='Recherche brute')\n",
    "plt.xlabel('W')\n",
    "plt.ylabel('Temps de recherche (s)')\n",
    "plt.title('Temps de recherche en fonction de W')\n",
    "plt.legend()\n",
    "plt.grid(True)\n",
    "\n",
    "# Taille des short-list pour L=30, k=5 et L=40, k=5\n",
    "plt.subplot(1, 3, 3)\n",
    "plt.plot(lsh_result_30_5['W'], lsh_result_30_5['taille moyenne de la short-list'], marker='o', label='L=30, k=5')\n",
    "plt.plot(lsh_result_40_5['W'], lsh_result_40_5['taille moyenne de la short-list'], marker='o', label='L=40, k=5')\n",
    "\n",
    "plt.axhline(y=19899, color='red', linestyle='--', label='nb total de vecteurs')\n",
    "plt.xlabel('W')\n",
    "plt.ylabel('Taille moyenne de la Short-list')\n",
    "plt.title('Taille moyenne de la Short-list en fonction de W')\n",
    "plt.legend()\n",
    "plt.grid(True)\n",
    "\n",
    "plt.tight_layout()\n",
    "plt.show()\n"
   ]
  },
  {
   "attachments": {
    "image.png": {
     "image/png": "[encoded data removed]"
    }
   },
   "cell_type": "markdown",
   "metadata": {},
   "source": [
    "![image.png](attachment:image.png)"
   ]
  },
  {
   "cell_type": "markdown",
   "metadata": {},
   "source": [
    "Ces deux graphiques qui représentent la précision et le temps de recherche en fonction du facteur w pour les configuration (30 projections, 5 tables) et (40 projections, 5 tables) permettent d'analyser les résultats et de déterminer les paramètres optimaux. \n",
    "\n",
    "On remarque pour les valeurs de w supérieures à 1 que le temps de recherche est supérieur a celui de la recherche par force brute, la méthode lsh n'a donc aucun intérêt pour ces configurations. \n",
    "\n",
    "En revanche pour des valeurs w trop faibles on perd beaucoup en précision. \n",
    "\n",
    "Nous avons vu précédement qu'un de nos problèmes était dans la taille des short list en effet le but de la méthode est d'obtenir grâce au hashage une liste bien plus faible que le nombre total de vecteurs sur laquelle réaliser la recherche brute-force, or dans de nombreuse configurations la taille moyenne des shorts list est trop élevée (donc proche du nombre total de vecteurs) pour que la méthode LSH soit efficace. "
   ]
  },
  {
   "cell_type": "code",
   "execution_count": null,
   "metadata": {},
   "outputs": [],
   "source": [
    "import matplotlib.pyplot as plt\n",
    "\n",
    "# Filtrer les données pour chaque configuration\n",
    "lsh_result_30_8 = lsh_result[(lsh_result['L'] == 30) & (lsh_result['k'] == 8)]\n",
    "lsh_result_40_8 = lsh_result[(lsh_result['L'] == 40) & (lsh_result['k'] == 8)]\n",
    "\n",
    "# Tracer la précision en fonction de W pour les configurations 30 projections / 5 tables et 40 projections / 5 tables\n",
    "plt.figure(figsize=(14, 6))\n",
    "\n",
    "# Précision pour L=30, k=8 et L=40, k=8\n",
    "plt.subplot(1, 3, 1)\n",
    "plt.plot(lsh_result_30_8['W'], lsh_result_30_8['Precision'],color='green', marker='o', label='L=30, k=8')\n",
    "plt.plot(lsh_result_40_8['W'], lsh_result_40_8['Precision'],color='blue', marker='o', label='L=40, k=8')\n",
    "plt.xlabel('W')\n",
    "plt.ylabel('Précision (%)')\n",
    "plt.title('Précision en fonction de W')\n",
    "plt.legend()\n",
    "plt.grid(True)\n",
    "\n",
    "# Temps de recherche pour L=30, k=8 et L=40, k=8 \n",
    "plt.subplot(1, 3, 2)\n",
    "plt.plot(lsh_result_30_8['W'], lsh_result_30_8['Search Time (s)'],color='green', marker='o', label='L=30, k=8')\n",
    "plt.plot(lsh_result_40_8['W'], lsh_result_40_8['Search Time (s)'],color='blue', marker='o', label='L=40, k=8')\n",
    "plt.axhline(y=temps_de_recherche_force_brute, color='red', linestyle='--', label='Recherche brute')\n",
    "plt.xlabel('W')\n",
    "plt.ylabel('Temps de recherche (s)')\n",
    "plt.title('Temps de recherche en fonction de W')\n",
    "plt.legend()\n",
    "plt.grid(True)\n",
    "\n",
    "# Taille des short-list pour L=30, k=8 et L=40, k=8\n",
    "plt.subplot(1, 3, 3)\n",
    "plt.plot(lsh_result_30_8['W'], lsh_result_30_8['taille moyenne de la short-list'],color='green', marker='o', label='L=30, k=8')\n",
    "plt.plot(lsh_result_40_8['W'], lsh_result_40_8['taille moyenne de la short-list'],color='blue', marker='o', label='L=40, k=8')\n",
    "\n",
    "plt.axhline(y=19899, color='red', linestyle='--', label='nb total de vecteurs')\n",
    "plt.xlabel('W')\n",
    "plt.ylabel('Taille moyenne de la Short-list')\n",
    "plt.title('Taille moyenne de la Short-list en fonction de W')\n",
    "plt.legend()\n",
    "plt.grid(True)\n",
    "\n",
    "plt.tight_layout()\n",
    "plt.show()\n"
   ]
  },
  {
   "attachments": {
    "image.png": {
     "image/png": "[encoded data removed]"
    }
   },
   "cell_type": "markdown",
   "metadata": {},
   "source": [
    "![image.png](attachment:image.png)"
   ]
  },
  {
   "cell_type": "markdown",
   "metadata": {},
   "source": [
    "Ces deux graphiques qui représentent la précision et le temps de recherche en fonction du facteur w pour les configuration (30 projections, 8 tables) et (40 projections, 8 tables). Ici on a modifié le nombre de tables mais aucune amélioration n'est observée. On garde donc un nombre de table égale à 5."
   ]
  },
  {
   "cell_type": "markdown",
   "metadata": {},
   "source": [
    "En conclusion la configuration qui semble convenir est 40 projections 5 tables et une valeur de 0.75 pour W."
   ]
  },
  {
   "cell_type": "code",
   "execution_count": null,
   "metadata": {},
   "outputs": [],
   "source": [
    "# création des tables de hachages \n",
    "\n",
    "W_value = 0.75\n",
    "nb_projections = 40\n",
    "nb_tables = 5\n",
    "\n",
    "lsh = LSH(nb_projections=nb_projections, nb_tables=nb_tables, w=W_value)"
   ]
  },
  {
   "cell_type": "markdown",
   "metadata": {},
   "source": [
    "##### **6. Réduction de la dimension des données**"
   ]
  },
  {
   "cell_type": "markdown",
   "metadata": {},
   "source": [
    "**6.1 Méthode d'Analyse des composants principales (ACP)**"
   ]
  },
  {
   "cell_type": "markdown",
   "metadata": {},
   "source": [
    "On souhaite effectuer une réduction de dimension sur nos données (7275 dimensions) dans le but de simplifier leur structure tout en conservant les informations les plus importantes (inertie du nuages de points). Dans ce projet, nous avons appliqué dans un premier temps une réduction de dimension via l'Analyse en Composantes Principales (ACP), une méthode linéaire largement utilisée pour cette tâche. L'ACP permet de projeter les données dans un nouvel espace où les axes (ou composantes principales) correspondent aux directions de la plus grande variance des données."
   ]
  },
  {
   "cell_type": "markdown",
   "metadata": {},
   "source": [
    "Une ACP canonique a été choisie pour ce projet (variables homogènes et de même grandeur). Le processus se déroule en deux étapes principales :\n",
    "\n",
    "- **Prétraitement des données** : les données d'origine *datavect_recipe* sont centrées en retirant la moyenne de chaque colonne pour obtenir une matrice de données centrées.\n",
    "\n",
    "- **Application de l'ACP** : Nous avons initialement utilisé *PCA(n_components=7275)* pour calculer toutes les composantes principales. Ensuite, nous avons évalué le pourcentage d'inertie expliqué par chaque composante afin de déterminer le nombre optimal d'axes à conserver, en fonction de critères comme le critère de Kaiser (valeurs propres > moyenne(valeurs propres)) et la part d'inertie cumulée (environ 80 %).\n",
    "\n",
    "Une fois ce nombre de composantes déterminé (587 composantes retenues ici), un nouveau modèle ACP (*new_pca*) est appliqué aux données pour obtenir une version projetée de ces dernières, réduite en dimensionnalité. Cette version simplifiée des données est ensuite utilisée pour accélérer les opérations de recherche des plus proches voisins à l'aide de la méthode force brute."
   ]
  },
  {
   "cell_type": "code",
   "execution_count": null,
   "metadata": {},
   "outputs": [],
   "source": [
    "import matplotlib.pyplot as plt\n",
    "from sklearn.decomposition import PCA\n",
    "\n",
    "# Prétraitement des données \n",
    "\n",
    "Y = datavect_small_recipe - np.mean(datavect_small_recipe, axis=0) \n",
    "\n",
    "# print(Y)\n",
    "# print(Y.mean())\n",
    "# print(Y.var())"
   ]
  },
  {
   "cell_type": "markdown",
   "metadata": {},
   "source": [
    "Réalisation d'une première ACP pour déterminer le nombre de dimensions à conserver"
   ]
  },
  {
   "cell_type": "code",
   "execution_count": null,
   "metadata": {},
   "outputs": [],
   "source": [
    "pca = PCA(n_components=7275)\n",
    "pca.fit(Y)"
   ]
  },
  {
   "cell_type": "code",
   "execution_count": null,
   "metadata": {},
   "outputs": [],
   "source": [
    "print(\"Vecteurs propres (composantes principales) :\")\n",
    "print(pca.components_)\n",
    "\n",
    "valeurs_propres = pca.explained_variance_\n",
    "print(f\"\\nValeurs propres : {valeurs_propres}\")\n",
    "\n",
    "valeurs_propres.shape"
   ]
  },
  {
   "cell_type": "markdown",
   "metadata": {},
   "source": [
    "Utilisation du critère de Kaiser et de la part d'inertie expliquée pour determiner la valeur de n = nombre de dimensions à conserver."
   ]
  },
  {
   "cell_type": "code",
   "execution_count": null,
   "metadata": {},
   "outputs": [],
   "source": [
    "# Valeurs propres et pourcentages d'inertie\n",
    "valeurs_propres = pca.explained_variance_\n",
    "inertie_expliquee = pca.explained_variance_ratio_\n",
    "inertie_cumulee = np.cumsum(inertie_expliquee)\n",
    "inertie_totale = np.sum(valeurs_propres)\n",
    "\n",
    "print(inertie_totale)\n",
    "\n",
    "# Affichage des résultats\n",
    "print(\"Valeurs propres (en ordre décroissant) :\")\n",
    "print(np.sort(valeurs_propres)[::-1])  # Affiche les valeurs propres en ordre décroissant\n",
    "\n",
    "print(\"\\nPourcentage d'inertie expliquée par chaque axe :\")\n",
    "for i, inertie in enumerate(inertie_expliquee):\n",
    "    print(f\"Axe {i + 1}: {inertie:.2%}\")\n",
    "\n",
    "print(\"\\nPart d'inertie cumulée :\")\n",
    "for i, cumulee in enumerate(inertie_cumulee):\n",
    "    print(f\"Axe {i + 1}: {cumulee:.2%}\")\n",
    "\n",
    "# Tracé des courbes\n",
    "plt.figure(figsize=(12, 6))\n",
    "\n",
    "# Graphique des valeurs propres\n",
    "plt.subplot(1, 2, 1)\n",
    "plt.plot(np.arange(1, len(valeurs_propres) + 1), np.sort(valeurs_propres)[::-1], marker='o')\n",
    "plt.title(\"Valeurs propres\")\n",
    "plt.xlabel(\"Axes principaux\")\n",
    "plt.ylabel(\"Valeurs propres\")\n",
    "plt.xticks(np.arange(1, len(valeurs_propres) + 1))\n",
    "\n",
    "# Graphique de la part d'inertie cumulée\n",
    "plt.subplot(1, 2, 2)\n",
    "plt.plot(np.arange(1, len(inertie_cumulee) + 1), inertie_cumulee, marker='o', color='orange')\n",
    "plt.title(\"Part d'inertie cumulée\")\n",
    "plt.xlabel(\"Axes principaux\")\n",
    "plt.ylabel(\"Part d'inertie cumulée\")\n",
    "plt.xticks(np.arange(1, len(inertie_cumulee) + 1))\n",
    "plt.ylim(0, 1)\n",
    "\n",
    "plt.tight_layout()\n",
    "plt.show()\n",
    "\n",
    "# Critères pour déterminer le nombre d'axes à conserver\n",
    "# Critère 1: Valeurs propres > 1 (Kaiser criterion)\n",
    "axes_kept_kaiser = np.sum(valeurs_propres > inertie_totale/7275)\n",
    "print(f\"\\nNombre d'axes à conserver selon le critère de Kaiser : {axes_kept_kaiser}\")\n",
    "\n",
    "# Critère 2: Cumulé > 80% (ou tout autre seuil)\n",
    "axes_kept_cumule = np.sum(inertie_cumulee < 0.80)  # seuil à 80%\n",
    "print(f\"Nombre d'axes à conserver selon la part d'inertie cumulée > 80% : {axes_kept_cumule}\")\n"
   ]
  },
  {
   "cell_type": "markdown",
   "metadata": {},
   "source": [
    "On garde n=587 dimensions et on réalise une nouvelle ACP pour réduire la dimension des données."
   ]
  },
  {
   "cell_type": "code",
   "execution_count": null,
   "metadata": {},
   "outputs": [],
   "source": [
    "new_pca=PCA(n_components=587)\n",
    "new_pca.fit(Y)"
   ]
  },
  {
   "cell_type": "code",
   "execution_count": null,
   "metadata": {},
   "outputs": [],
   "source": [
    "# print(new_pca.explained_variance_)\n",
    "\n",
    "y_vect_projetée = new_pca.transform(Y)\n",
    "print(y_vect_projetée)\n",
    "\n",
    "# print(Y.shape, y_vect_projetée.shape)\n",
    "\n",
    "datavect_samll_recipe_acp = y_vect_projetée "
   ]
  },
  {
   "cell_type": "markdown",
   "metadata": {},
   "source": [
    "Ainsi datavect_samll_recipe_acp correspond à la matrice de recettes vectorisées grâce à une ACP avec 587 dimensions."
   ]
  },
  {
   "cell_type": "markdown",
   "metadata": {},
   "source": [
    "Force Brute sur le jeu de données de dimension réduite (pour tester visuellement la cohérence des plus proches voisins de la première recette)"
   ]
  },
  {
   "cell_type": "code",
   "execution_count": null,
   "metadata": {},
   "outputs": [],
   "source": [
    "query_small_vect_acp = datavect_samll_recipe_acp[:100]\n",
    "ds_small_vect_acp = datavect_samll_recipe_acp[100:]\n",
    "\n",
    "query = query_small_vect_acp[0] \n",
    "metrics = ['euclidean','manhattan','chebyshev']\n",
    "k_values=[1,3,5,10]\n",
    "for m in metrics :\n",
    "    for k in k_values :\n",
    "        bf = NearestNeighbors(n_neighbors=k,algorithm='brute',metric=m)\n",
    "        bf.fit(ds_small_vect_acp)\n",
    "        dist,indices = bf.kneighbors([query])\n",
    "        print(f\"\\nPour la distance '{m}', les {k} plus proches voisins de '{small_recipe.iloc[0]['title']}' sont :\")\n",
    "        print(small_recipe.iloc[100+indices[0]][\"title\"],dist[0])\n"
   ]
  },
  {
   "cell_type": "markdown",
   "metadata": {},
   "source": [
    "On va maintenant récupérer les 5 plus proches voisins des 100 premières recettes par un calcul de force brute sur la matrice initiale (dimension 7275) et la matrice réduite (dimension 587) et donc comparer les résultats. On pourra conclure sur la précision et l'efficacité de cette méthode."
   ]
  },
  {
   "cell_type": "code",
   "execution_count": null,
   "metadata": {},
   "outputs": [],
   "source": [
    "distances_knn_force_brute = np.array([])\n",
    "indices_knn_force_brute = np.array([])\n",
    "\n",
    "for i in range(len(query_small_vect)) :\n",
    "    query = query_small_vect[i]\n",
    "    idx,distance = knn_search(ds_small_vect,query)\n",
    "    distances_knn_force_brute = np.append(distances_knn_force_brute,distance)\n",
    "    indices_knn_force_brute = np.append(indices_knn_force_brute,idx)\n",
    "    \n",
    "print(indices_knn_force_brute,len(indices_knn_force_brute))"
   ]
  },
  {
   "cell_type": "code",
   "execution_count": null,
   "metadata": {},
   "outputs": [],
   "source": [
    "distances_knn_force_brute_acp= np.array([])\n",
    "indices_knn_force_brute_acp = np.array([])\n",
    "\n",
    "for i in range(len(query_small_vect_acp)) :\n",
    "    query = query_small_vect_acp[i]\n",
    "    idx,distance = knn_search(ds_small_vect_acp,query)\n",
    "    distances_knn_force_brute_acp = np.append(distances_knn_force_brute_acp,[distance])\n",
    "    indices_knn_force_brute_acp = np.append(indices_knn_force_brute_acp,[idx])\n",
    "\n",
    "print(len(distances_knn_force_brute_acp),len(indices_knn_force_brute_acp))"
   ]
  },
  {
   "cell_type": "markdown",
   "metadata": {},
   "source": [
    "On a : indices_knn_force_brute : liste des 500 indices, 5 plus proches voisins des 100 premières recettes\n",
    "/ indices_knn_force_brute_acp : liste de 500 indices, 5 plus proches voisins des 100 premières recettes mais calcul réalisé sur la matrice de dimension réduite.\n",
    "\n",
    "Pour le calcul de précision nous comptons pour chaque requête le nombre de plus proches voisins similaires dans chaque liste de 5 (pas de notion d'ordre). \n",
    "\n"
   ]
  },
  {
   "cell_type": "code",
   "execution_count": null,
   "metadata": {},
   "outputs": [],
   "source": [
    "x=0\n",
    "indices_fb = np.array([indices_knn_force_brute[i:i+5] for i in range(0, len(indices_knn_force_brute), 5)])\n",
    "indices_fb_acp = np.array([indices_knn_force_brute_acp[i:i+5] for i in range(0, len(indices_knn_force_brute_acp), 5)])\n",
    "\n",
    "for i,j in zip(indices_fb_acp,indices_fb) : \n",
    "    for m in i :\n",
    "        if m in j :\n",
    "            x+=1\n",
    "print(f\"Précision = {x/500*100} %\")"
   ]
  },
  {
   "cell_type": "markdown",
   "metadata": {},
   "source": [
    "Conclusion sur l'efficacité de l'ACP : On trouve donc une précision proche de 80 %, ce qui reste tout à fait acceptable. En effet, en utilisant l'ACP, le temps de calcul des axes principaux et donc des dimensions à conserver n'est pas négligeable. Cependant, une fois l'ACP effectuée, la recherche des plus proches voisins est beaucoup plus courte (environ 8 fois plus rapide), ce qui est logique car nous avons réduit la dimension d'un facteur 12. En divisant par 2 le nombre initiale de dimensions, on arrive à une précision de 90 %, mais cela ne vaut pas vraiment le coup par rapport au temps d'exécution de l'ACP avec 3500 dimensions et au temps de recherche de force brute."
   ]
  },
  {
   "cell_type": "markdown",
   "metadata": {},
   "source": [
    "**6.2 Hashing trick**"
   ]
  },
  {
   "cell_type": "markdown",
   "metadata": {},
   "source": [
    "On réalise exactement le même protocole pour calculer la précision de cette méthode."
   ]
  },
  {
   "cell_type": "code",
   "execution_count": null,
   "metadata": {},
   "outputs": [],
   "source": [
    "from sklearn.feature_extraction.text import HashingVectorizer\n",
    "\n",
    "vectorizer = HashingVectorizer(n_features=587)\n",
    "datavect_hashing = vectorizer.transform(dataset_small_recipe)\n",
    "print(datavect_hashing.toarray())"
   ]
  },
  {
   "cell_type": "code",
   "execution_count": null,
   "metadata": {},
   "outputs": [],
   "source": [
    "datavect_samll_recipe_hashing = datavect_hashing.toarray()\n",
    "print(datavect_samll_recipe_hashing, datavect_samll_recipe_hashing.shape)\n"
   ]
  },
  {
   "cell_type": "code",
   "execution_count": null,
   "metadata": {},
   "outputs": [],
   "source": [
    "query_small_vect_hashing = datavect_samll_recipe_hashing[:100]\n",
    "ds_small_vect_hashing = datavect_samll_recipe_hashing[100:]\n",
    "print(query_small_vect_hashing.shape, ds_small_vect_hashing.shape)"
   ]
  },
  {
   "cell_type": "code",
   "execution_count": null,
   "metadata": {},
   "outputs": [],
   "source": [
    "distances_knn_force_brute_hashing= np.array([])\n",
    "indices_knn_force_brute_hashing = np.array([])\n",
    "\n",
    "for i in range(len(query_small_vect_hashing)) : #100\n",
    "    query = query_small_vect_hashing[i]\n",
    "    idx,distance = knn_search(ds_small_vect_hashing,query)\n",
    "    distances_knn_force_brute_hashing = np.append(distances_knn_force_brute_hashing,[distance])\n",
    "    indices_knn_force_brute_hashing = np.append(indices_knn_force_brute_hashing,[idx])\n",
    "\n",
    "print(len(distances_knn_force_brute_hashing),len(indices_knn_force_brute_hashing))"
   ]
  },
  {
   "cell_type": "code",
   "execution_count": null,
   "metadata": {},
   "outputs": [],
   "source": [
    "x=0\n",
    "indices_fb = np.array([indices_knn_force_brute[i:i+5] for i in range(0, len(indices_knn_force_brute), 5)])\n",
    "indices_fb_hashing = np.array([indices_knn_force_brute_hashing[i:i+5] for i in range(0, len(indices_knn_force_brute_hashing), 5)])\n",
    "\n",
    "for i,j in zip(indices_fb_hashing,indices_fb) : \n",
    "    for m in i :\n",
    "        if m in j :\n",
    "            x+=1\n",
    "print(f\"Précision = {x/500*100} %\")"
   ]
  },
  {
   "cell_type": "markdown",
   "metadata": {},
   "source": [
    "Conclusion sur Hashing Trick : Le temps de création de la matrice de recettes vectorisées est nettement plus rapide comparé à celui de l'ACP. Cependant, on a une précision de 42 %, que l'on estime pas suffisante. De plus, la précision ne varie presque pas en fonction du nombre de dimensions (on reste aux allentours de 43 % avec 7275 dimensions). Peut être que le problème provient de notre dataset_recipe (liste de recettes avec ingrédients + titre). Ainsi, cette méthode peut être intéressante pour un très gros jeu de données car création de la matrice très rapide mais précision pas suffisante. "
   ]
  },
  {
   "cell_type": "markdown",
   "metadata": {},
   "source": [
    "Dans notre contexte, pour ce type de jeu de données, nous privilégions la méthode en ACP, car elle allie précision et rapidité. "
   ]
  },
  {
   "cell_type": "markdown",
   "metadata": {},
   "source": [
    "##### **7. Test avec large recipe**"
   ]
  },
  {
   "cell_type": "markdown",
   "metadata": {},
   "source": [
    "Pour terminer ce projet, nous souhaitions tester la recherche approximative avec LSH sur un jeu de données plus grand (large_recipe, 200 000 recettes) en utilisant les paramètres optimaux définis précédemment afin de démontrer l'utilité de la recherche approximative pour de grands jeux de données. Cependant, le volume de données était trop important pour nos machines, et nous n'avons pas réussi à obtenir un résultat. En effet, la première difficulté résidait dans la vectorisation des 200 000 recettes; notre approche initiale n'était pas suffisamment efficace. Pour remédier à cela, nous avons utilisé la méthode CountVectorizer, qui nous a permis de vectoriser l'ensemble des données. Nous avons ensuite pu créer un modèle LSH avec nos paramètres optimaux et l'entraîner sur notre jeu de données. Cependant, une fois de plus, nos machines n'ont pas réussi à exécuter la recherche de voisins par la méthode LSH, sans doute en raison de la dimension élevée des vecteurs (16 848). C'est pourquoi nous avons voulu utiliser une ACP pour réduire la dimension, mais, encore une fois, les données étaient trop volumineuses, et nous n'avons pas pu initialiser l'ACP pour déterminer le nombre de dimensions à conserver."
   ]
  },
  {
   "cell_type": "markdown",
   "metadata": {},
   "source": [
    "##### **8. Bilan et mise en perspective**"
   ]
  },
  {
   "cell_type": "markdown",
   "metadata": {},
   "source": [
    "Nous avons apprécié travailler sur ce projet. En effet, à travers ce projet, nous avons pu mettre en pratique ce que nous avons appris en cours de Recherche par Similarité sur un exemple concret. Nous avons tout d'abord appris à vectoriser un jeu de données textuelles avec la méthode \"Bag of Words\" ainsi que toutes les étapes de modification des données pour mettre en oeuvre cette vectorisation. Puis nous avons appris à appliquer des algorithmes de recherche par similarité (force brute et LSH) ainsi que de trouver les paramètres optimaux pour LSH pour notre jeu de données. Nous avons aussi pu tester l'impact des méthodes de réduction de dimension avec ACP et Hashing. \n",
    "\n",
    "Malheureusement, nous avons pas pu mettre en oeuvre ces processus pour un jeu de données plus gros car nos machines ne nous le permettaient pas. Nous en concluant tout de même que l'utilisation d'une recherche approximative avec LSH, combiné avec une réduction de dimension en ACP peut être une très bonne alternative pour des jeux de données très volumineux, alliant une précision élevée (proche de la force brute) et un temps d'exécution nettement inférieur à celui d'une recherche par force brute. En effet, nous diminuons le nombre de calcul de distances grâce au hachage ainsi que le nombre de composantes dans chaque calcul de distance grâce à l'ACP. Le seul incovénient de cet méthode est de trouver les paramètres idéaux pour notre un jeu de données (paramètres LSH et nombre dimensions ACP), c'est à dire trouver le modèle qui convient le mieux. Mais, une fois ce modèle trouvé pour une application définie, les recherches sont précises et beaucoup plus rapides. Enfin, les défis ont principalement concerné la manipulation de grandes bases de données, où les dimensions importantes des vecteurs rendaient la recherche coûteuse en temps de calcul. Nous avons également rencontré des difficultés pour ajuster les paramètres de LSH afin de maintenir un bon équilibre entre la précision et la rapidité de la recherche. Puis nous avons aussi rencontré des difficultés lors de la vectorisation, afin de créer un vocabulaire précis et adapté au jeu de données (présence de caractères spéciaux notamment). \n",
    "\n",
    "Ce travail met en évidence le potentiel des méthodes de recherche de similarité et de réduction de dimensions dans le traitement de bases de données textuelles volumineuses. En contexte industriel, cette approche pourrait être appliquée à la recommandation de produits ou d'articles, offrant des résultats personnalisés et optimisés pour les utilisateurs. Pour aller plus loin, il aurait été intéressant d'intégrer une interface utilisateur qui permettrait une interaction directe avec l'algorithme. \n"
   ]
  }
 ],
 "metadata": {
  "kernelspec": {
   "display_name": "Python 3 (ipykernel)",
   "language": "python",
   "name": "python3"
  },
  "language_info": {
   "codemirror_mode": {
    "name": "ipython",
    "version": 3
   },
   "file_extension": ".py",
   "mimetype": "text/x-python",
   "name": "python",
   "nbconvert_exporter": "python",
   "pygments_lexer": "ipython3",
   "version": "3.11.7"
  }
 },
 "nbformat": 4,
 "nbformat_minor": 4
}
